{
 "cells": [
  {
   "cell_type": "code",
   "execution_count": 1,
   "id": "5e4c65ac",
   "metadata": {},
   "outputs": [],
   "source": [
    "lst = [\"amit\",\"abhay\",\"ashish\",\"pasa\",\"shifa\"]"
   ]
  },
  {
   "cell_type": "code",
   "execution_count": 2,
   "id": "2fe8f38c",
   "metadata": {},
   "outputs": [
    {
     "data": {
      "text/plain": [
       "'shifa'"
      ]
     },
     "execution_count": 2,
     "metadata": {},
     "output_type": "execute_result"
    }
   ],
   "source": [
    "lst[-1]"
   ]
  },
  {
   "cell_type": "code",
   "execution_count": 3,
   "id": "5ac327be",
   "metadata": {},
   "outputs": [
    {
     "data": {
      "text/plain": [
       "'abhay'"
      ]
     },
     "execution_count": 3,
     "metadata": {},
     "output_type": "execute_result"
    }
   ],
   "source": [
    "lst[1]"
   ]
  },
  {
   "cell_type": "code",
   "execution_count": 4,
   "id": "91a6e57f",
   "metadata": {},
   "outputs": [
    {
     "data": {
      "text/plain": [
       "['shifa', 'pasa', 'ashish', 'abhay', 'amit']"
      ]
     },
     "execution_count": 4,
     "metadata": {},
     "output_type": "execute_result"
    }
   ],
   "source": [
    "lst[::-1]"
   ]
  },
  {
   "cell_type": "code",
   "execution_count": 5,
   "id": "c312dc87",
   "metadata": {},
   "outputs": [],
   "source": [
    "lst1 = [\"aman\",\"ajay\"]"
   ]
  },
  {
   "cell_type": "code",
   "execution_count": 6,
   "id": "4f5ff4d0",
   "metadata": {},
   "outputs": [
    {
     "data": {
      "text/plain": [
       "['amit', 'abhay', 'ashish', 'pasa', 'shifa', 'aman', 'ajay']"
      ]
     },
     "execution_count": 6,
     "metadata": {},
     "output_type": "execute_result"
    }
   ],
   "source": [
    "lst+lst1"
   ]
  },
  {
   "cell_type": "code",
   "execution_count": 7,
   "id": "14e54f3e",
   "metadata": {},
   "outputs": [],
   "source": [
    "lst.append(\"ajju bhai\")"
   ]
  },
  {
   "cell_type": "code",
   "execution_count": 8,
   "id": "b4bca7ca",
   "metadata": {},
   "outputs": [
    {
     "data": {
      "text/plain": [
       "['amit', 'abhay', 'ashish', 'pasa', 'shifa', 'ajju bhai']"
      ]
     },
     "execution_count": 8,
     "metadata": {},
     "output_type": "execute_result"
    }
   ],
   "source": [
    "lst"
   ]
  },
  {
   "cell_type": "code",
   "execution_count": 11,
   "id": "a2185acf",
   "metadata": {},
   "outputs": [
    {
     "data": {
      "text/plain": [
       "1"
      ]
     },
     "execution_count": 11,
     "metadata": {},
     "output_type": "execute_result"
    }
   ],
   "source": [
    "lst.count(\"amit\")"
   ]
  },
  {
   "cell_type": "code",
   "execution_count": 13,
   "id": "ecbbce5e",
   "metadata": {},
   "outputs": [],
   "source": [
    "lst.clear()"
   ]
  },
  {
   "cell_type": "code",
   "execution_count": 14,
   "id": "4a97590a",
   "metadata": {},
   "outputs": [
    {
     "data": {
      "text/plain": [
       "[]"
      ]
     },
     "execution_count": 14,
     "metadata": {},
     "output_type": "execute_result"
    }
   ],
   "source": [
    "lst"
   ]
  },
  {
   "cell_type": "code",
   "execution_count": 22,
   "id": "64d84f54",
   "metadata": {},
   "outputs": [],
   "source": [
    "lst1.extend('raj')"
   ]
  },
  {
   "cell_type": "code",
   "execution_count": 23,
   "id": "280d5597",
   "metadata": {},
   "outputs": [
    {
     "data": {
      "text/plain": [
       "['aman', 'ajay', 'r', 'a', 'j']"
      ]
     },
     "execution_count": 23,
     "metadata": {},
     "output_type": "execute_result"
    }
   ],
   "source": [
    "lst1"
   ]
  },
  {
   "cell_type": "code",
   "execution_count": 24,
   "id": "e96a27e0",
   "metadata": {},
   "outputs": [
    {
     "data": {
      "text/plain": [
       "'j'"
      ]
     },
     "execution_count": 24,
     "metadata": {},
     "output_type": "execute_result"
    }
   ],
   "source": [
    "lst1.pop()"
   ]
  },
  {
   "cell_type": "code",
   "execution_count": 25,
   "id": "036ad0cd",
   "metadata": {},
   "outputs": [
    {
     "data": {
      "text/plain": [
       "['aman', 'ajay', 'r', 'a']"
      ]
     },
     "execution_count": 25,
     "metadata": {},
     "output_type": "execute_result"
    }
   ],
   "source": [
    "lst1"
   ]
  },
  {
   "cell_type": "code",
   "execution_count": 26,
   "id": "fae2cb4b",
   "metadata": {},
   "outputs": [
    {
     "data": {
      "text/plain": [
       "'a'"
      ]
     },
     "execution_count": 26,
     "metadata": {},
     "output_type": "execute_result"
    }
   ],
   "source": [
    "lst1.pop(3)"
   ]
  },
  {
   "cell_type": "code",
   "execution_count": 27,
   "id": "605b0a52",
   "metadata": {},
   "outputs": [],
   "source": [
    "lst2 = [6,7,9,4,5,3,2,2,6,5]"
   ]
  },
  {
   "cell_type": "code",
   "execution_count": 31,
   "id": "6d1a579b",
   "metadata": {},
   "outputs": [
    {
     "data": {
      "text/plain": [
       "NoneType"
      ]
     },
     "execution_count": 31,
     "metadata": {},
     "output_type": "execute_result"
    }
   ],
   "source": [
    "type(lst2.sort())"
   ]
  },
  {
   "cell_type": "code",
   "execution_count": 30,
   "id": "c21acaf5",
   "metadata": {},
   "outputs": [
    {
     "data": {
      "text/plain": [
       "list"
      ]
     },
     "execution_count": 30,
     "metadata": {},
     "output_type": "execute_result"
    }
   ],
   "source": [
    "type(lst2)"
   ]
  },
  {
   "cell_type": "code",
   "execution_count": null,
   "id": "ed311400",
   "metadata": {},
   "outputs": [],
   "source": []
  }
 ],
 "metadata": {
  "kernelspec": {
   "display_name": "Python 3 (ipykernel)",
   "language": "python",
   "name": "python3"
  },
  "language_info": {
   "codemirror_mode": {
    "name": "ipython",
    "version": 3
   },
   "file_extension": ".py",
   "mimetype": "text/x-python",
   "name": "python",
   "nbconvert_exporter": "python",
   "pygments_lexer": "ipython3",
   "version": "3.9.7"
  }
 },
 "nbformat": 4,
 "nbformat_minor": 5
}
