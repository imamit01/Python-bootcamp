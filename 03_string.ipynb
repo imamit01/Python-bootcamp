{
 "cells": [
  {
   "cell_type": "code",
   "execution_count": 1,
   "id": "f4780942",
   "metadata": {},
   "outputs": [
    {
     "data": {
      "text/plain": [
       "'hello word'"
      ]
     },
     "execution_count": 1,
     "metadata": {},
     "output_type": "execute_result"
    }
   ],
   "source": [
    "'hello word'"
   ]
  },
  {
   "cell_type": "code",
   "execution_count": 2,
   "id": "924d6293",
   "metadata": {},
   "outputs": [
    {
     "ename": "SyntaxError",
     "evalue": "invalid syntax (Temp/ipykernel_8756/840721977.py, line 1)",
     "output_type": "error",
     "traceback": [
      "\u001b[1;36m  File \u001b[1;32m\"C:\\Users\\byema\\AppData\\Local\\Temp/ipykernel_8756/840721977.py\"\u001b[1;36m, line \u001b[1;32m1\u001b[0m\n\u001b[1;33m    'hello brother's '\u001b[0m\n\u001b[1;37m                   ^\u001b[0m\n\u001b[1;31mSyntaxError\u001b[0m\u001b[1;31m:\u001b[0m invalid syntax\n"
     ]
    }
   ],
   "source": [
    "'hello brother's '"
   ]
  },
  {
   "cell_type": "code",
   "execution_count": 4,
   "id": "8b1529a9",
   "metadata": {},
   "outputs": [
    {
     "data": {
      "text/plain": [
       "\"ram's chair\""
      ]
     },
     "execution_count": 4,
     "metadata": {},
     "output_type": "execute_result"
    }
   ],
   "source": [
    "\"ram's chair\""
   ]
  },
  {
   "cell_type": "code",
   "execution_count": 5,
   "id": "f61a7a23",
   "metadata": {},
   "outputs": [
    {
     "ename": "SyntaxError",
     "evalue": "invalid syntax (Temp/ipykernel_8756/1048840193.py, line 1)",
     "output_type": "error",
     "traceback": [
      "\u001b[1;36m  File \u001b[1;32m\"C:\\Users\\byema\\AppData\\Local\\Temp/ipykernel_8756/1048840193.py\"\u001b[1;36m, line \u001b[1;32m1\u001b[0m\n\u001b[1;33m    \"it is the size of the \"jump\" you take \"\u001b[0m\n\u001b[1;37m                            ^\u001b[0m\n\u001b[1;31mSyntaxError\u001b[0m\u001b[1;31m:\u001b[0m invalid syntax\n"
     ]
    }
   ],
   "source": [
    "\"it is the size of the \"jump\" you take \""
   ]
  },
  {
   "cell_type": "code",
   "execution_count": 7,
   "id": "974e3b63",
   "metadata": {},
   "outputs": [
    {
     "data": {
      "text/plain": [
       "'\"it is the size of the \"jump\" you take \"'"
      ]
     },
     "execution_count": 7,
     "metadata": {},
     "output_type": "execute_result"
    }
   ],
   "source": [
    "'''\"it is the size of the \"jump\" you take \"'''"
   ]
  },
  {
   "cell_type": "code",
   "execution_count": 8,
   "id": "f2ec3f17",
   "metadata": {},
   "outputs": [],
   "source": [
    "x = [\"a\",\"b\",\"c\"]"
   ]
  },
  {
   "cell_type": "code",
   "execution_count": 9,
   "id": "320ae404",
   "metadata": {},
   "outputs": [
    {
     "data": {
      "text/plain": [
       "['a', 'b', 'c']"
      ]
     },
     "execution_count": 9,
     "metadata": {},
     "output_type": "execute_result"
    }
   ],
   "source": [
    "x"
   ]
  },
  {
   "cell_type": "code",
   "execution_count": 20,
   "id": "97c6b0ad",
   "metadata": {},
   "outputs": [
    {
     "name": "stdout",
     "output_type": "stream",
     "text": [
      "List with str ('a', 'b', 'c')\n",
      "List in proper method [a, b, c]\n"
     ]
    }
   ],
   "source": [
    "print(\"List with str\", str(x))\n",
    "print(\"List in proper method\", '[%s]'%', '.join(map(str, x)))"
   ]
  },
  {
   "cell_type": "code",
   "execution_count": 22,
   "id": "1de32907",
   "metadata": {},
   "outputs": [
    {
     "name": "stdout",
     "output_type": "stream",
     "text": [
      "My name \t is singh\n"
     ]
    }
   ],
   "source": [
    "print(\"My name \\t is singh\")"
   ]
  },
  {
   "cell_type": "code",
   "execution_count": 23,
   "id": "98c4b969",
   "metadata": {},
   "outputs": [
    {
     "name": "stdout",
     "output_type": "stream",
     "text": [
      "My name is \n",
      " kumar\n"
     ]
    }
   ],
   "source": [
    "print(\"My name is \\n kumar\")"
   ]
  },
  {
   "cell_type": "code",
   "execution_count": null,
   "id": "2a8fab62",
   "metadata": {},
   "outputs": [],
   "source": []
  }
 ],
 "metadata": {
  "kernelspec": {
   "display_name": "Python 3 (ipykernel)",
   "language": "python",
   "name": "python3"
  },
  "language_info": {
   "codemirror_mode": {
    "name": "ipython",
    "version": 3
   },
   "file_extension": ".py",
   "mimetype": "text/x-python",
   "name": "python",
   "nbconvert_exporter": "python",
   "pygments_lexer": "ipython3",
   "version": "3.9.7"
  }
 },
 "nbformat": 4,
 "nbformat_minor": 5
}
