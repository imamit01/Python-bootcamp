{
 "cells": [
  {
   "cell_type": "markdown",
   "id": "18bf7439",
   "metadata": {},
   "source": [
    "# string indexing and slicing "
   ]
  },
  {
   "cell_type": "code",
   "execution_count": 1,
   "id": "62b3c2ca",
   "metadata": {},
   "outputs": [],
   "source": [
    "mystr = \"hello india\""
   ]
  },
  {
   "cell_type": "code",
   "execution_count": 2,
   "id": "283760a1",
   "metadata": {},
   "outputs": [
    {
     "data": {
      "text/plain": [
       "'hello india'"
      ]
     },
     "execution_count": 2,
     "metadata": {},
     "output_type": "execute_result"
    }
   ],
   "source": [
    "mystr"
   ]
  },
  {
   "cell_type": "code",
   "execution_count": 3,
   "id": "409300f6",
   "metadata": {},
   "outputs": [
    {
     "data": {
      "text/plain": [
       "'o'"
      ]
     },
     "execution_count": 3,
     "metadata": {},
     "output_type": "execute_result"
    }
   ],
   "source": [
    "mystr[4]"
   ]
  },
  {
   "cell_type": "code",
   "execution_count": 4,
   "id": "ab175e81",
   "metadata": {},
   "outputs": [
    {
     "data": {
      "text/plain": [
       "'n'"
      ]
     },
     "execution_count": 4,
     "metadata": {},
     "output_type": "execute_result"
    }
   ],
   "source": [
    "mystr[7]"
   ]
  },
  {
   "cell_type": "code",
   "execution_count": 7,
   "id": "05a3bd8f",
   "metadata": {},
   "outputs": [
    {
     "data": {
      "text/plain": [
       "'d'"
      ]
     },
     "execution_count": 7,
     "metadata": {},
     "output_type": "execute_result"
    }
   ],
   "source": [
    "mystr[-3]"
   ]
  },
  {
   "cell_type": "code",
   "execution_count": 8,
   "id": "f8d1b3ed",
   "metadata": {},
   "outputs": [
    {
     "data": {
      "text/plain": [
       "'a'"
      ]
     },
     "execution_count": 8,
     "metadata": {},
     "output_type": "execute_result"
    }
   ],
   "source": [
    "mystr[-1]"
   ]
  },
  {
   "cell_type": "code",
   "execution_count": 6,
   "id": "ac981f86",
   "metadata": {},
   "outputs": [
    {
     "data": {
      "text/plain": [
       "'india'"
      ]
     },
     "execution_count": 6,
     "metadata": {},
     "output_type": "execute_result"
    }
   ],
   "source": [
    "mystr[6:]"
   ]
  },
  {
   "cell_type": "code",
   "execution_count": 9,
   "id": "164cb379",
   "metadata": {},
   "outputs": [
    {
     "data": {
      "text/plain": [
       "'hello'"
      ]
     },
     "execution_count": 9,
     "metadata": {},
     "output_type": "execute_result"
    }
   ],
   "source": [
    "mystr[0:5]"
   ]
  },
  {
   "cell_type": "code",
   "execution_count": 13,
   "id": "0de2a852",
   "metadata": {},
   "outputs": [
    {
     "name": "stdout",
     "output_type": "stream",
     "text": [
      "26\n"
     ]
    }
   ],
   "source": [
    "mytstr1 = \"ABCDEFGHIJKLMNOPQRSTUVWXYZ\"\n",
    "print(len(mytstr1))"
   ]
  },
  {
   "cell_type": "code",
   "execution_count": 14,
   "id": "86585468",
   "metadata": {},
   "outputs": [
    {
     "data": {
      "text/plain": [
       "'ADGJMPSVY'"
      ]
     },
     "execution_count": 14,
     "metadata": {},
     "output_type": "execute_result"
    }
   ],
   "source": [
    "mytstr1[0:25:3]   # take 3 step jump"
   ]
  },
  {
   "cell_type": "markdown",
   "id": "17e033cd",
   "metadata": {},
   "source": [
    "#### for reverse string"
   ]
  },
  {
   "cell_type": "code",
   "execution_count": 32,
   "id": "ca163b4f",
   "metadata": {},
   "outputs": [
    {
     "data": {
      "text/plain": [
       "'ZYXWVUTSRQPONMLKJIHGFEDCBA'"
      ]
     },
     "execution_count": 32,
     "metadata": {},
     "output_type": "execute_result"
    }
   ],
   "source": [
    "mytstr1[-1:-len(mytstr1)-1:-1]"
   ]
  },
  {
   "cell_type": "code",
   "execution_count": 24,
   "id": "3f4d8849",
   "metadata": {},
   "outputs": [
    {
     "data": {
      "text/plain": [
       "'ZYXWVUTSRQPONMLKJIHGFEDCBA'"
      ]
     },
     "execution_count": 24,
     "metadata": {},
     "output_type": "execute_result"
    }
   ],
   "source": [
    "mytstr1[::-1]"
   ]
  },
  {
   "cell_type": "code",
   "execution_count": 29,
   "id": "82435f99",
   "metadata": {},
   "outputs": [
    {
     "data": {
      "text/plain": [
       "'ZYXWVUTSRQPONMLKJIHGFEDCBA'"
      ]
     },
     "execution_count": 29,
     "metadata": {},
     "output_type": "execute_result"
    }
   ],
   "source": [
    "mytstr1[-1::-1]"
   ]
  },
  {
   "cell_type": "code",
   "execution_count": 31,
   "id": "97c072e6",
   "metadata": {},
   "outputs": [
    {
     "data": {
      "text/plain": [
       "'CD'"
      ]
     },
     "execution_count": 31,
     "metadata": {},
     "output_type": "execute_result"
    }
   ],
   "source": [
    "mytstr1[2:4]"
   ]
  },
  {
   "cell_type": "code",
   "execution_count": null,
   "id": "5dead7d1",
   "metadata": {},
   "outputs": [],
   "source": []
  }
 ],
 "metadata": {
  "kernelspec": {
   "display_name": "Python 3 (ipykernel)",
   "language": "python",
   "name": "python3"
  },
  "language_info": {
   "codemirror_mode": {
    "name": "ipython",
    "version": 3
   },
   "file_extension": ".py",
   "mimetype": "text/x-python",
   "name": "python",
   "nbconvert_exporter": "python",
   "pygments_lexer": "ipython3",
   "version": "3.9.7"
  }
 },
 "nbformat": 4,
 "nbformat_minor": 5
}
