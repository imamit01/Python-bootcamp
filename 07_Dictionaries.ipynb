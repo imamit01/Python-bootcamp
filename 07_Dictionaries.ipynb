{
 "cells": [
  {
   "cell_type": "markdown",
   "id": "90bbfe74",
   "metadata": {},
   "source": [
    "  # Dictionaries"
   ]
  },
  {
   "cell_type": "code",
   "execution_count": 1,
   "id": "d05d1878",
   "metadata": {},
   "outputs": [],
   "source": [
    "dic = {\"key1\":\"value1\",\"key2\":[1,2,3,4],\"key3\":[\"a\",\"b\",\"c\"],\"key5\":{\"key6\":\"value6\",\"key7\":[1,2,3,4]}}"
   ]
  },
  {
   "cell_type": "code",
   "execution_count": 2,
   "id": "8e84534d",
   "metadata": {},
   "outputs": [
    {
     "data": {
      "text/plain": [
       "3"
      ]
     },
     "execution_count": 2,
     "metadata": {},
     "output_type": "execute_result"
    }
   ],
   "source": [
    "# output 3 from key 5\n",
    "\n",
    "dic[\"key5\"][\"key7\"][2]"
   ]
  },
  {
   "cell_type": "code",
   "execution_count": 3,
   "id": "90e080ba",
   "metadata": {},
   "outputs": [
    {
     "data": {
      "text/plain": [
       "'C'"
      ]
     },
     "execution_count": 3,
     "metadata": {},
     "output_type": "execute_result"
    }
   ],
   "source": [
    "#return \"c as a upper case\"\n",
    "\n",
    "dic[\"key3\"][2].upper()"
   ]
  },
  {
   "cell_type": "code",
   "execution_count": 4,
   "id": "f7d649c4",
   "metadata": {},
   "outputs": [],
   "source": [
    "# add key-value in dictionasries\n",
    "\n",
    "dic[\"key9\"]=\"value9\""
   ]
  },
  {
   "cell_type": "code",
   "execution_count": 5,
   "id": "f7d019bf",
   "metadata": {},
   "outputs": [
    {
     "data": {
      "text/plain": [
       "{'key1': 'value1',\n",
       " 'key2': [1, 2, 3, 4],\n",
       " 'key3': ['a', 'b', 'c'],\n",
       " 'key5': {'key6': 'value6', 'key7': [1, 2, 3, 4]},\n",
       " 'key9': 'value9'}"
      ]
     },
     "execution_count": 5,
     "metadata": {},
     "output_type": "execute_result"
    }
   ],
   "source": [
    "dic"
   ]
  },
  {
   "cell_type": "code",
   "execution_count": 6,
   "id": "c5b884c5",
   "metadata": {},
   "outputs": [],
   "source": [
    "# overwrite a value in dictionary\n",
    "\n",
    "dic[\"key1\"] = \"New Value\""
   ]
  },
  {
   "cell_type": "code",
   "execution_count": 7,
   "id": "48805578",
   "metadata": {},
   "outputs": [
    {
     "data": {
      "text/plain": [
       "{'key1': 'New Value',\n",
       " 'key2': [1, 2, 3, 4],\n",
       " 'key3': ['a', 'b', 'c'],\n",
       " 'key5': {'key6': 'value6', 'key7': [1, 2, 3, 4]},\n",
       " 'key9': 'value9'}"
      ]
     },
     "execution_count": 7,
     "metadata": {},
     "output_type": "execute_result"
    }
   ],
   "source": [
    "dic"
   ]
  },
  {
   "cell_type": "markdown",
   "id": "4522def7",
   "metadata": {},
   "source": [
    "find all \"keys \" and values from the dictuionary"
   ]
  },
  {
   "cell_type": "code",
   "execution_count": 8,
   "id": "c0a51e27",
   "metadata": {},
   "outputs": [
    {
     "data": {
      "text/plain": [
       "dict_keys(['key1', 'key2', 'key3', 'key5', 'key9'])"
      ]
     },
     "execution_count": 8,
     "metadata": {},
     "output_type": "execute_result"
    }
   ],
   "source": [
    "dic.keys()"
   ]
  },
  {
   "cell_type": "code",
   "execution_count": 9,
   "id": "dadd83bc",
   "metadata": {},
   "outputs": [
    {
     "data": {
      "text/plain": [
       "dict_values(['New Value', [1, 2, 3, 4], ['a', 'b', 'c'], {'key6': 'value6', 'key7': [1, 2, 3, 4]}, 'value9'])"
      ]
     },
     "execution_count": 9,
     "metadata": {},
     "output_type": "execute_result"
    }
   ],
   "source": [
    "dic.values()"
   ]
  },
  {
   "cell_type": "code",
   "execution_count": 10,
   "id": "f6a24c0d",
   "metadata": {},
   "outputs": [
    {
     "data": {
      "text/plain": [
       "dict_items([('key1', 'New Value'), ('key2', [1, 2, 3, 4]), ('key3', ['a', 'b', 'c']), ('key5', {'key6': 'value6', 'key7': [1, 2, 3, 4]}), ('key9', 'value9')])"
      ]
     },
     "execution_count": 10,
     "metadata": {},
     "output_type": "execute_result"
    }
   ],
   "source": [
    "dic.items()"
   ]
  },
  {
   "cell_type": "code",
   "execution_count": null,
   "id": "db6d0d56",
   "metadata": {},
   "outputs": [],
   "source": []
  }
 ],
 "metadata": {
  "kernelspec": {
   "display_name": "Python 3 (ipykernel)",
   "language": "python",
   "name": "python3"
  },
  "language_info": {
   "codemirror_mode": {
    "name": "ipython",
    "version": 3
   },
   "file_extension": ".py",
   "mimetype": "text/x-python",
   "name": "python",
   "nbconvert_exporter": "python",
   "pygments_lexer": "ipython3",
   "version": "3.9.7"
  }
 },
 "nbformat": 4,
 "nbformat_minor": 5
}
