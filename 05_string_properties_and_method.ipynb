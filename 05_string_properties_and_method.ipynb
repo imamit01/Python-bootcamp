{
 "cells": [
  {
   "cell_type": "markdown",
   "id": "9d2e3a13",
   "metadata": {},
   "source": [
    "# string immutability"
   ]
  },
  {
   "cell_type": "markdown",
   "id": "5063d853",
   "metadata": {},
   "source": [
    "a = \"Amit\""
   ]
  },
  {
   "cell_type": "code",
   "execution_count": 2,
   "id": "ab417f38",
   "metadata": {},
   "outputs": [
    {
     "ename": "TypeError",
     "evalue": "'str' object does not support item assignment",
     "output_type": "error",
     "traceback": [
      "\u001b[1;31m---------------------------------------------------------------------------\u001b[0m",
      "\u001b[1;31mTypeError\u001b[0m                                 Traceback (most recent call last)",
      "\u001b[1;32m~\\AppData\\Local\\Temp/ipykernel_3632/1229292869.py\u001b[0m in \u001b[0;36m<module>\u001b[1;34m\u001b[0m\n\u001b[1;32m----> 1\u001b[1;33m \u001b[0ma\u001b[0m\u001b[1;33m[\u001b[0m\u001b[1;36m0\u001b[0m\u001b[1;33m]\u001b[0m\u001b[1;33m=\u001b[0m\u001b[1;34m\"B\"\u001b[0m\u001b[1;33m\u001b[0m\u001b[1;33m\u001b[0m\u001b[0m\n\u001b[0m",
      "\u001b[1;31mTypeError\u001b[0m: 'str' object does not support item assignment"
     ]
    }
   ],
   "source": [
    "a[0]=\"B\""
   ]
  },
  {
   "cell_type": "markdown",
   "id": "6185e9c5",
   "metadata": {},
   "source": [
    "# string concatenation"
   ]
  },
  {
   "cell_type": "code",
   "execution_count": 3,
   "id": "9e427dc8",
   "metadata": {},
   "outputs": [],
   "source": [
    "b = \" is a good boy\""
   ]
  },
  {
   "cell_type": "code",
   "execution_count": 7,
   "id": "048e800d",
   "metadata": {},
   "outputs": [
    {
     "name": "stdout",
     "output_type": "stream",
     "text": [
      "Amit is a good boy\n"
     ]
    }
   ],
   "source": [
    "c = a+b\n",
    "print(c)"
   ]
  },
  {
   "cell_type": "markdown",
   "id": "06609fe1",
   "metadata": {},
   "source": [
    "## Display multiple time same string"
   ]
  },
  {
   "cell_type": "code",
   "execution_count": 10,
   "id": "6cd5e78c",
   "metadata": {},
   "outputs": [
    {
     "name": "stdout",
     "output_type": "stream",
     "text": [
      "Amit is a good boyAmit is a good boyAmit is a good boyAmit is a good boyAmit is a good boyAmit is a good boyAmit is a good boyAmit is a good boyAmit is a good boyAmit is a good boy\n"
     ]
    }
   ],
   "source": [
    "print(10 * c)"
   ]
  },
  {
   "cell_type": "code",
   "execution_count": 15,
   "id": "3305d6ce",
   "metadata": {},
   "outputs": [
    {
     "name": "stdout",
     "output_type": "stream",
     "text": [
      "AMIT IS A GOOD BOY\n",
      "amit is a good boy\n",
      "['Amit', 'is', 'a', 'good', 'boy']\n"
     ]
    }
   ],
   "source": [
    "# .upper()\n",
    "\n",
    "print(c.upper())\n",
    "\n",
    "# .lower()\n",
    "\n",
    "print(c.lower())\n",
    "\n",
    "# .split() : \n",
    "\n",
    "print(c.split())"
   ]
  },
  {
   "cell_type": "code",
   "execution_count": 20,
   "id": "430071f6",
   "metadata": {},
   "outputs": [],
   "source": [
    "d = \"Amit is a good boy\""
   ]
  },
  {
   "cell_type": "code",
   "execution_count": 21,
   "id": "a1f773eb",
   "metadata": {},
   "outputs": [
    {
     "data": {
      "text/plain": [
       "['Amit', 'is', 'a', 'good', 'boy']"
      ]
     },
     "execution_count": 21,
     "metadata": {},
     "output_type": "execute_result"
    }
   ],
   "source": [
    "d.split()"
   ]
  },
  {
   "cell_type": "code",
   "execution_count": 22,
   "id": "4aabc0b4",
   "metadata": {},
   "outputs": [],
   "source": [
    "x = \"jhsdhdjhsdhkuiudhklkdoikjijd\""
   ]
  },
  {
   "cell_type": "code",
   "execution_count": 23,
   "id": "dd68250b",
   "metadata": {},
   "outputs": [
    {
     "data": {
      "text/plain": [
       "['jhs', 'h', 'jhs', 'hkuiu', 'hklk', 'oikjij', '']"
      ]
     },
     "execution_count": 23,
     "metadata": {},
     "output_type": "execute_result"
    }
   ],
   "source": [
    "x.split(\"d\")"
   ]
  },
  {
   "cell_type": "code",
   "execution_count": null,
   "id": "92c5f3bc",
   "metadata": {},
   "outputs": [],
   "source": []
  }
 ],
 "metadata": {
  "kernelspec": {
   "display_name": "Python 3 (ipykernel)",
   "language": "python",
   "name": "python3"
  },
  "language_info": {
   "codemirror_mode": {
    "name": "ipython",
    "version": 3
   },
   "file_extension": ".py",
   "mimetype": "text/x-python",
   "name": "python",
   "nbconvert_exporter": "python",
   "pygments_lexer": "ipython3",
   "version": "3.9.7"
  }
 },
 "nbformat": 4,
 "nbformat_minor": 5
}
