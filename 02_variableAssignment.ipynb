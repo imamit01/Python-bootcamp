{
 "cells": [
  {
   "cell_type": "markdown",
   "id": "aba6871d",
   "metadata": {},
   "source": [
    "# Variable assignment"
   ]
  },
  {
   "cell_type": "markdown",
   "id": "fdd17720",
   "metadata": {},
   "source": [
    "# assign a variable "
   ]
  },
  {
   "cell_type": "code",
   "execution_count": 1,
   "id": "5917b63f",
   "metadata": {},
   "outputs": [],
   "source": [
    "a = 5"
   ]
  },
  {
   "cell_type": "code",
   "execution_count": 4,
   "id": "69398f56",
   "metadata": {},
   "outputs": [
    {
     "ename": "SyntaxError",
     "evalue": "invalid syntax (Temp/ipykernel_13812/777155823.py, line 1)",
     "output_type": "error",
     "traceback": [
      "\u001b[1;36m  File \u001b[1;32m\"C:\\Users\\byema\\AppData\\Local\\Temp/ipykernel_13812/777155823.py\"\u001b[1;36m, line \u001b[1;32m1\u001b[0m\n\u001b[1;33m    1b =6  # we can not start a var name wityh number\u001b[0m\n\u001b[1;37m     ^\u001b[0m\n\u001b[1;31mSyntaxError\u001b[0m\u001b[1;31m:\u001b[0m invalid syntax\n"
     ]
    }
   ],
   "source": [
    "1b =6  # we can not start a var name wityh number"
   ]
  },
  {
   "cell_type": "code",
   "execution_count": 5,
   "id": "ae04629e",
   "metadata": {},
   "outputs": [
    {
     "ename": "SyntaxError",
     "evalue": "invalid syntax (Temp/ipykernel_13812/3327894798.py, line 1)",
     "output_type": "error",
     "traceback": [
      "\u001b[1;36m  File \u001b[1;32m\"C:\\Users\\byema\\AppData\\Local\\Temp/ipykernel_13812/3327894798.py\"\u001b[1;36m, line \u001b[1;32m1\u001b[0m\n\u001b[1;33m    @r = \"a\" # cause we can not use special char in variab;le name\u001b[0m\n\u001b[1;37m       ^\u001b[0m\n\u001b[1;31mSyntaxError\u001b[0m\u001b[1;31m:\u001b[0m invalid syntax\n"
     ]
    }
   ],
   "source": [
    "@r = \"a\" # cause we can not use special char in variab;le name"
   ]
  },
  {
   "cell_type": "code",
   "execution_count": 6,
   "id": "29d8825f",
   "metadata": {},
   "outputs": [],
   "source": [
    "_1abc = \"b\"    #but we uise a number to assign a variable after alphabet or \"_\""
   ]
  },
  {
   "cell_type": "code",
   "execution_count": 7,
   "id": "9a96053a",
   "metadata": {},
   "outputs": [
    {
     "data": {
      "text/plain": [
       "'b'"
      ]
     },
     "execution_count": 7,
     "metadata": {},
     "output_type": "execute_result"
    }
   ],
   "source": [
    "_1abc\n"
   ]
  },
  {
   "cell_type": "markdown",
   "id": "b36693b9",
   "metadata": {},
   "source": [
    "# Pyuthon used dynamic typing"
   ]
  },
  {
   "cell_type": "code",
   "execution_count": 8,
   "id": "795c0135",
   "metadata": {},
   "outputs": [],
   "source": [
    "l = 5\n"
   ]
  },
  {
   "cell_type": "code",
   "execution_count": 11,
   "id": "33e980ca",
   "metadata": {},
   "outputs": [],
   "source": [
    "l = [\"five\"]  # irt means we can reassign variable to different data types"
   ]
  },
  {
   "cell_type": "code",
   "execution_count": null,
   "id": "81bcb7d5",
   "metadata": {},
   "outputs": [],
   "source": []
  },
  {
   "cell_type": "code",
   "execution_count": 21,
   "id": "f58c7fad",
   "metadata": {},
   "outputs": [],
   "source": [
    "x = 20"
   ]
  },
  {
   "cell_type": "code",
   "execution_count": 30,
   "id": "7c682d28",
   "metadata": {},
   "outputs": [],
   "source": [
    "x = x+x"
   ]
  },
  {
   "cell_type": "code",
   "execution_count": 31,
   "id": "d22c61ce",
   "metadata": {},
   "outputs": [
    {
     "data": {
      "text/plain": [
       "640"
      ]
     },
     "execution_count": 31,
     "metadata": {},
     "output_type": "execute_result"
    }
   ],
   "source": [
    "x"
   ]
  },
  {
   "cell_type": "code",
   "execution_count": 32,
   "id": "5167fde6",
   "metadata": {},
   "outputs": [
    {
     "data": {
      "text/plain": [
       "int"
      ]
     },
     "execution_count": 32,
     "metadata": {},
     "output_type": "execute_result"
    }
   ],
   "source": [
    "type(x)"
   ]
  },
  {
   "cell_type": "code",
   "execution_count": 33,
   "id": "5581270f",
   "metadata": {},
   "outputs": [],
   "source": [
    "y = 10.5"
   ]
  },
  {
   "cell_type": "code",
   "execution_count": 34,
   "id": "6eb1d98b",
   "metadata": {},
   "outputs": [
    {
     "data": {
      "text/plain": [
       "float"
      ]
     },
     "execution_count": 34,
     "metadata": {},
     "output_type": "execute_result"
    }
   ],
   "source": [
    "type(y)"
   ]
  },
  {
   "cell_type": "code",
   "execution_count": null,
   "id": "c6518aef",
   "metadata": {},
   "outputs": [],
   "source": [
    "\n"
   ]
  }
 ],
 "metadata": {
  "kernelspec": {
   "display_name": "Python 3 (ipykernel)",
   "language": "python",
   "name": "python3"
  },
  "language_info": {
   "codemirror_mode": {
    "name": "ipython",
    "version": 3
   },
   "file_extension": ".py",
   "mimetype": "text/x-python",
   "name": "python",
   "nbconvert_exporter": "python",
   "pygments_lexer": "ipython3",
   "version": "3.9.7"
  }
 },
 "nbformat": 4,
 "nbformat_minor": 5
}
