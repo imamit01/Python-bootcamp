{
 "cells": [
  {
   "cell_type": "code",
   "execution_count": 4,
   "id": "f6c401cf",
   "metadata": {},
   "outputs": [],
   "source": [
    "# null set \n",
    "\n",
    "myset = set()"
   ]
  },
  {
   "cell_type": "code",
   "execution_count": 5,
   "id": "9d7e6fc3",
   "metadata": {},
   "outputs": [
    {
     "data": {
      "text/plain": [
       "set"
      ]
     },
     "execution_count": 5,
     "metadata": {},
     "output_type": "execute_result"
    }
   ],
   "source": [
    "type(myset)"
   ]
  },
  {
   "cell_type": "code",
   "execution_count": 14,
   "id": "8b14734f",
   "metadata": {},
   "outputs": [],
   "source": [
    "myset.add(6)"
   ]
  },
  {
   "cell_type": "code",
   "execution_count": 15,
   "id": "296af83a",
   "metadata": {},
   "outputs": [
    {
     "data": {
      "text/plain": [
       "{1, 6, 123}"
      ]
     },
     "execution_count": 15,
     "metadata": {},
     "output_type": "execute_result"
    }
   ],
   "source": [
    "myset"
   ]
  },
  {
   "cell_type": "code",
   "execution_count": 19,
   "id": "9baa5ba4",
   "metadata": {},
   "outputs": [
    {
     "data": {
      "text/plain": [
       "1"
      ]
     },
     "execution_count": 19,
     "metadata": {},
     "output_type": "execute_result"
    }
   ],
   "source": [
    "myset.pop()"
   ]
  },
  {
   "cell_type": "code",
   "execution_count": 20,
   "id": "e8a262c9",
   "metadata": {},
   "outputs": [],
   "source": [
    "myset.remove(123)"
   ]
  },
  {
   "cell_type": "code",
   "execution_count": 21,
   "id": "bcf124d7",
   "metadata": {},
   "outputs": [
    {
     "data": {
      "text/plain": [
       "{6}"
      ]
     },
     "execution_count": 21,
     "metadata": {},
     "output_type": "execute_result"
    }
   ],
   "source": [
    "myset"
   ]
  },
  {
   "cell_type": "code",
   "execution_count": null,
   "id": "7e0e5870",
   "metadata": {},
   "outputs": [],
   "source": []
  }
 ],
 "metadata": {
  "kernelspec": {
   "display_name": "Python 3 (ipykernel)",
   "language": "python",
   "name": "python3"
  },
  "language_info": {
   "codemirror_mode": {
    "name": "ipython",
    "version": 3
   },
   "file_extension": ".py",
   "mimetype": "text/x-python",
   "name": "python",
   "nbconvert_exporter": "python",
   "pygments_lexer": "ipython3",
   "version": "3.9.7"
  }
 },
 "nbformat": 4,
 "nbformat_minor": 5
}
